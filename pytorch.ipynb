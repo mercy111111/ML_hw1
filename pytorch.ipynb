{
 "cells": [
  {
   "cell_type": "markdown",
   "metadata": {},
   "source": [
    "# Pytorch Tutorial"
   ]
  },
  {
   "cell_type": "markdown",
   "metadata": {},
   "source": [
    "Pytorch is a popular deep learning framework and it's easy to get started."
   ]
  },
  {
   "cell_type": "code",
   "execution_count": 1,
   "metadata": {},
   "outputs": [],
   "source": [
    "import torch\n",
    "import torch.nn as nn\n",
    "from torchvision import datasets, transforms\n",
    "import torch.utils.data \n",
    "NUM_EPOCHS = 10\n",
    "BATCH_SIZE = 128"
   ]
  },
  {
   "cell_type": "markdown",
   "metadata": {},
   "source": [
    "First, we read the mnist data, preprocess them and encapsulate them into dataloader form."
   ]
  },
  {
   "cell_type": "code",
   "execution_count": 2,
   "metadata": {},
   "outputs": [],
   "source": [
    "train_dataset = datasets.MNIST(root='./mnist_dataset/',\n",
    "                               train=True,\n",
    "                               transform=transforms.transforms.ToTensor(),\n",
    "                               download=True)\n",
    "test_dataset = datasets.MNIST(root='./mnist_dataset/',\n",
    "                              train=False,\n",
    "                              transform=transforms.transforms.ToTensor(),\n",
    "                              download=True)\n",
    "batch_size = 64\n",
    "train_loader = torch.utils.data.DataLoader(dataset=train_dataset,\n",
    "                                           batch_size=BATCH_SIZE,\n",
    "                                           shuffle=True)\n",
    "test_loader = torch.utils.data.DataLoader(dataset=test_dataset,\n",
    "                                          batch_size=1,\n",
    "                                          shuffle=True)\n"
   ]
  },
  {
   "cell_type": "markdown",
   "metadata": {},
   "source": [
    "Then, we define the model, object function and optimizer that we use to classify."
   ]
  },
  {
   "cell_type": "code",
   "execution_count": 3,
   "metadata": {},
   "outputs": [],
   "source": [
    "class LeNet(nn.Module):\n",
    "    def __init__(self):\n",
    "        super(LeNet, self).__init__()\n",
    "        self.conv1 = nn.Sequential(nn.Conv2d(1, 6, 3, 1, 2),\n",
    "                                   nn.ReLU(),\n",
    "                                   nn.MaxPool2d(2, 2)\n",
    "                                   )\n",
    "        self.conv2 = nn.Sequential(nn.Conv2d(6, 16, 5),\n",
    "                                   nn.ReLU(),\n",
    "                                   nn.MaxPool2d(2, 2))\n",
    "        self.fc1 = nn.Sequential(nn.Linear(16 * 5 * 5, 120),\n",
    "                                 nn.BatchNorm1d(120),\n",
    "                                 nn.ReLU())\n",
    "        self.fc2 = nn.Sequential(nn.Linear(120, 120),\n",
    "                                 nn.BatchNorm1d(120),\n",
    "                                 nn.ReLU(),\n",
    "                                 nn.Linear(120, 10))\n",
    "\n",
    "    def forward(self, x):\n",
    "        x = self.conv1(x)\n",
    "        x = self.conv2(x)\n",
    "        x = x.view(x.size()[0], -1)\n",
    "        x = self.fc1(x)\n",
    "        x = self.fc2(x)\n",
    "        return x\n",
    "\n",
    "\n",
    "net = LeNet()\n",
    "my_loss = nn.CrossEntropyLoss()\n",
    "optimizer = torch.optim.Adam(net.parameters(), lr=0.001)\n"
   ]
  },
  {
   "cell_type": "markdown",
   "metadata": {},
   "source": [
    "Next, we can start to train and evaluate!"
   ]
  },
  {
   "cell_type": "code",
   "execution_count": 4,
   "metadata": {
    "scrolled": true
   },
   "outputs": [
    {
     "name": "stdout",
     "output_type": "stream",
     "text": [
      "100 \t loss: 0.14536787569522858\n",
      "200 \t loss: 0.059743043035268784\n",
      "300 \t loss: 0.06675297021865845\n",
      "400 \t loss: 0.05610867962241173\n",
      "100 \t loss: 0.07410240173339844\n",
      "200 \t loss: 0.03242039307951927\n",
      "300 \t loss: 0.014594472013413906\n",
      "400 \t loss: 0.04925417900085449\n",
      "100 \t loss: 0.09165441244840622\n",
      "200 \t loss: 0.01892494410276413\n",
      "300 \t loss: 0.07361435145139694\n",
      "400 \t loss: 0.04592376574873924\n",
      "100 \t loss: 0.027191154658794403\n",
      "200 \t loss: 0.011142151430249214\n",
      "300 \t loss: 0.0062614199705421925\n",
      "400 \t loss: 0.006285541225224733\n",
      "100 \t loss: 0.03566594049334526\n",
      "200 \t loss: 0.06140012666583061\n",
      "300 \t loss: 0.0022845789790153503\n",
      "400 \t loss: 0.012490279041230679\n",
      "100 \t loss: 0.02831631898880005\n",
      "200 \t loss: 0.012542365118861198\n",
      "300 \t loss: 0.008582250215113163\n",
      "400 \t loss: 0.0025901501066982746\n",
      "100 \t loss: 0.012296225875616074\n",
      "200 \t loss: 0.007965879514813423\n",
      "300 \t loss: 0.025969916954636574\n",
      "400 \t loss: 0.029760152101516724\n",
      "100 \t loss: 0.011557401157915592\n",
      "200 \t loss: 0.030154064297676086\n",
      "300 \t loss: 0.005325149279087782\n",
      "400 \t loss: 0.07809070497751236\n",
      "100 \t loss: 0.0026013674214482307\n",
      "200 \t loss: 0.008759486488997936\n",
      "300 \t loss: 0.02036881074309349\n",
      "400 \t loss: 0.0030407439917325974\n",
      "100 \t loss: 0.002072123344987631\n",
      "200 \t loss: 0.00845141801983118\n",
      "300 \t loss: 0.02321411482989788\n",
      "400 \t loss: 0.029385928064584732\n",
      "accuracy=\t 0.989\n"
     ]
    }
   ],
   "source": [
    "for epoch in range(NUM_EPOCHS):\n",
    "    i = 0\n",
    "    for data in train_loader:\n",
    "        inputs, labels = data\n",
    "        optimizer.zero_grad()\n",
    "        outputs = net(inputs)\n",
    "        loss = my_loss(outputs, labels)\n",
    "        loss.backward()\n",
    "        optimizer.step()\n",
    "        i = i + 1\n",
    "        if i % 100 == 0:\n",
    "            print(i, \"\\t\", \"loss:\",loss.item())\n",
    "\n",
    "net.eval()\n",
    "total = 0\n",
    "prt = 0\n",
    "for data in test_loader:\n",
    "    test_input, test_label = data\n",
    "    test_output = net(test_input)\n",
    "    total += 1\n",
    "    if torch.argmax(test_output, dim=1) == test_label:\n",
    "        prt += 1\n",
    "print(\"accuracy=\\t\", prt / total)\n",
    "\n"
   ]
  },
  {
   "cell_type": "markdown",
   "metadata": {},
   "source": [
    "#### Q5:\n",
    "Please print the training and testing accuracy：  \n",
    "100 \t loss: 0.14536787569522858  \n",
    "200 \t loss: 0.059743043035268784  \n",
    "300 \t loss: 0.06675297021865845  \n",
    "400 \t loss: 0.05610867962241173  \n",
    "100 \t loss: 0.07410240173339844  \n",
    "200 \t loss: 0.03242039307951927  \n",
    "300 \t loss: 0.014594472013413906  \n",
    "400 \t loss: 0.04925417900085449  \n",
    "100 \t loss: 0.09165441244840622  \n",
    "200 \t loss: 0.01892494410276413  \n",
    "300 \t loss: 0.07361435145139694  \n",
    "400 \t loss: 0.04592376574873924  \n",
    "100 \t loss: 0.027191154658794403  \n",
    "200 \t loss: 0.011142151430249214  \n",
    "300 \t loss: 0.0062614199705421925  \n",
    "400 \t loss: 0.006285541225224733  \n",
    "100 \t loss: 0.03566594049334526  \n",
    "200 \t loss: 0.06140012666583061  \n",
    "300 \t loss: 0.0022845789790153503  \n",
    "400 \t loss: 0.012490279041230679  \n",
    "100 \t loss: 0.02831631898880005  \n",
    "200 \t loss: 0.012542365118861198  \n",
    "300 \t loss: 0.008582250215113163  \n",
    "400 \t loss: 0.0025901501066982746  \n",
    "100 \t loss: 0.012296225875616074  \n",
    "200 \t loss: 0.007965879514813423  \n",
    "300 \t loss: 0.025969916954636574  \n",
    "400 \t loss: 0.029760152101516724  \n",
    "100 \t loss: 0.011557401157915592  \n",
    "200 \t loss: 0.030154064297676086  \n",
    "300 \t loss: 0.005325149279087782  \n",
    "400 \t loss: 0.07809070497751236  \n",
    "100 \t loss: 0.0026013674214482307  \n",
    "200 \t loss: 0.008759486488997936  \n",
    "300 \t loss: 0.02036881074309349  \n",
    "400 \t loss: 0.0030407439917325974  \n",
    "100 \t loss: 0.002072123344987631  \n",
    "200 \t loss: 0.00845141801983118  \n",
    "300 \t loss: 0.02321411482989788  \n",
    "400 \t loss: 0.029385928064584732  \n",
    "accuracy=\t 0.989"
   ]
  }
 ],
 "metadata": {
  "kernelspec": {
   "display_name": "Python 3",
   "language": "python",
   "name": "python3"
  },
  "language_info": {
   "codemirror_mode": {
    "name": "ipython",
    "version": 3
   },
   "file_extension": ".py",
   "mimetype": "text/x-python",
   "name": "python",
   "nbconvert_exporter": "python",
   "pygments_lexer": "ipython3",
   "version": "3.7.6"
  }
 },
 "nbformat": 4,
 "nbformat_minor": 4
}
